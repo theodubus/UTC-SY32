{
 "cells": [
  {
   "cell_type": "code",
   "execution_count": 1,
   "metadata": {},
   "outputs": [],
   "source": [
    "import numpy as np\n",
    "import matplotlib.pyplot as plt\n",
    "import cv2 "
   ]
  },
  {
   "cell_type": "code",
   "execution_count": 2,
   "metadata": {},
   "outputs": [],
   "source": [
    "results_train = np.loadtxt('results_train_500.txt')\n",
    "label_train = np.loadtxt('label_train.txt', skiprows=658)"
   ]
  },
  {
   "cell_type": "markdown",
   "metadata": {},
   "source": [
    "# Q1"
   ]
  },
  {
   "cell_type": "code",
   "execution_count": 3,
   "metadata": {},
   "outputs": [
    {
     "data": {
      "image/png": "[encoded data removed]",
      "text/plain": [
       "<Figure size 640x480 with 1 Axes>"
      ]
     },
     "metadata": {},
     "output_type": "display_data"
    }
   ],
   "source": [
    "def draw_box(results, index):\n",
    "    image = np.ones((450,450,3), np.uint8) * 255\n",
    "\n",
    "    results = results[results[:,0] == index]\n",
    "\n",
    "    for box in results:\n",
    "        x1, y1 = int(box[1]), int(box[2])\n",
    "        w, h = int(box[4]), int(box[3])\n",
    "        x2, y2 = x1 + w, y1 + h\n",
    "        \n",
    "        cv2.rectangle(image, (x1, y1), (x2, y2), (0, 0, 0), 2)\n",
    "\n",
    "    return image\n",
    "\n",
    "index = 506\n",
    "image = draw_box(results_train, index)\n",
    "plt.imshow(image)\n",
    "plt.show()"
   ]
  },
  {
   "cell_type": "markdown",
   "metadata": {},
   "source": [
    "# Q2"
   ]
  },
  {
   "cell_type": "code",
   "execution_count": 4,
   "metadata": {},
   "outputs": [],
   "source": [
    "def rectangle_area(rect):\n",
    "    return (rect[2] - rect[0]) * (rect[3] - rect[1])\n",
    "\n",
    "def intersection_area(rect1, rect2):\n",
    "    x_overlap = max(0, min(rect1[2], rect2[2]) - max(rect1[0], rect2[0]))\n",
    "    y_overlap = max(0, min(rect1[3], rect2[3]) - max(rect1[1], rect2[1]))\n",
    "    return x_overlap * y_overlap\n",
    "\n",
    "def union_area(rect1, rect2):\n",
    "    area_rect1 = rectangle_area(rect1)\n",
    "    area_rect2 = rectangle_area(rect2)\n",
    "    intersection = intersection_area(rect1, rect2)\n",
    "    return area_rect1 + area_rect2 - intersection\n",
    "\n",
    "def area_overlap(rect1,rect2):\n",
    "    return  intersection_area(rect1, rect2)/union_area(rect1, rect2)\n",
    "\n",
    "def get_rect(i, j, h, l):\n",
    "    return [i, j, i + h, j + l]\n",
    "\n",
    "def iou(a, b):\n",
    "    return area_overlap(get_rect(a[0], a[1], a[2], a[3]), get_rect(b[0], b[1], b[2], b[3]))"
   ]
  },
  {
   "cell_type": "markdown",
   "metadata": {},
   "source": [
    "# Q3"
   ]
  },
  {
   "cell_type": "code",
   "execution_count": 5,
   "metadata": {},
   "outputs": [
    {
     "name": "stdout",
     "output_type": "stream",
     "text": [
      "1.0\n",
      "0.0\n",
      "0.3333333333333333\n",
      "0.01935483870967742\n"
     ]
    }
   ],
   "source": [
    "b1 = [0, 0, 10, 10]\n",
    "b2 = [0, 0, 10, 10]\n",
    "print(iou(b1, b2))\n",
    "\n",
    "b2 = [20, 20, 10, 10]\n",
    "print(iou(b1, b2))\n",
    "\n",
    "b2 = [0, 5, 10, 10]\n",
    "print(iou(b1, b2))\n",
    "\n",
    "b1 = [21, 4, 140, 10]\n",
    "b2 = [30, 12, 15, 12]\n",
    "print(iou(b1, b2))"
   ]
  },
  {
   "cell_type": "markdown",
   "metadata": {},
   "source": [
    "# Q4"
   ]
  },
  {
   "cell_type": "code",
   "execution_count": 6,
   "metadata": {},
   "outputs": [],
   "source": [
    "def filtre_nms(results_in, tresh_iou = 0.5):\n",
    "    results_out = np.empty((0,6))\n",
    "    unique_ids = np.unique(results_in[:,0])\n",
    "    for i in unique_ids:\n",
    "        results_in_i = results_in[results_in[:,0] == i]\n",
    "        results_in_i = results_in_i[ results_in_i[:,5].argsort()[::-1] ]\n",
    "        results_out_i = np.empty((0,6))\n",
    "        results_out_i = np.vstack((results_out_i, results_in_i[0]))\n",
    "        for n in range(1,len(results_in_i)):\n",
    "            for m in range(len(results_out_i)):\n",
    "                if iou(results_in_i[n,1:5], results_out_i[m,1:5]) > tresh_iou:\n",
    "                    break\n",
    "                elif m == len(results_out_i)-1:\n",
    "                    results_out_i = np.vstack((results_out_i, results_in_i[n]))\n",
    "        results_out = np.vstack((results_out,results_out_i))\n",
    "        \n",
    "    return results_out"
   ]
  },
  {
   "cell_type": "code",
   "execution_count": 7,
   "metadata": {},
   "outputs": [],
   "source": [
    "results_train_nms = filtre_nms(results_train, tresh_iou = 0.5)"
   ]
  },
  {
   "cell_type": "code",
   "execution_count": 8,
   "metadata": {},
   "outputs": [
    {
     "name": "stdout",
     "output_type": "stream",
     "text": [
      "(4842, 6) (4956, 6)\n"
     ]
    }
   ],
   "source": [
    "print(results_train_nms.shape, results_train.shape)"
   ]
  },
  {
   "cell_type": "markdown",
   "metadata": {},
   "source": [
    "# Q5"
   ]
  },
  {
   "cell_type": "code",
   "execution_count": 9,
   "metadata": {},
   "outputs": [],
   "source": [
    "def match_predictions_to_labels(predictions, labels, iou_threshold=0.5):\n",
    "    \"\"\"\n",
    "    Compare les prédictions aux vérités terrain et marque les boîtes comme VP ou FP.\n",
    "    \"\"\"\n",
    "    unique_ids = np.unique(predictions[:, 0])\n",
    "    results = []\n",
    "\n",
    "    for img_id in unique_ids:\n",
    "        pred_for_image = predictions[predictions[:, 0] == img_id]\n",
    "        labels_for_image = labels[labels[:, 0] == img_id]\n",
    "        \n",
    "        matched_labels = np.zeros(len(labels_for_image), dtype=bool)\n",
    "\n",
    "        for pred in pred_for_image:\n",
    "            pred_box = pred[1:5]\n",
    "            pred_score = pred[5]\n",
    "            matched = False\n",
    "\n",
    "            for idx, label in enumerate(labels_for_image):\n",
    "                label_box = label[1:5]\n",
    "                if iou(pred_box, label_box) > iou_threshold:\n",
    "                    if not matched_labels[idx]:\n",
    "                        matched = True\n",
    "                        matched_labels[idx] = True\n",
    "                        break\n",
    "            \n",
    "            if matched:\n",
    "                results.append([img_id, *pred_box, pred_score, 'VP'])\n",
    "            else:\n",
    "                results.append([img_id, *pred_box, pred_score, 'FP'])\n",
    "\n",
    "    return np.array(results)"
   ]
  },
  {
   "cell_type": "code",
   "execution_count": 18,
   "metadata": {},
   "outputs": [
    {
     "data": {
      "text/plain": [
       "array([['501.0', '222.0', '47.0', '69.0', '46.0', '1.252526', 'FP'],\n",
       "       ['501.0', '136.0', '224.0', '63.0', '42.0', '1.418966', 'FP'],\n",
       "       ['501.0', '79.0', '17.0', '68.0', '45.0', '0.14616', 'FP'],\n",
       "       ['501.0', '156.0', '10.0', '62.0', '41.0', '0.14616', 'FP'],\n",
       "       ['501.0', '310.0', '36.0', '68.0', '45.0', '1.418966', 'FP'],\n",
       "       ['501.0', '79.0', '85.0', '195.0', '130.0', '2.525332', 'VP']],\n",
       "      dtype='<U32')"
      ]
     },
     "execution_count": 18,
     "metadata": {},
     "output_type": "execute_result"
    }
   ],
   "source": [
    "results_marked = match_predictions_to_labels(results_train, label_train)\n",
    "results_marked[:6]"
   ]
  },
  {
   "cell_type": "markdown",
   "metadata": {},
   "source": [
    "# Q6"
   ]
  },
  {
   "cell_type": "code",
   "execution_count": 11,
   "metadata": {},
   "outputs": [],
   "source": [
    "def detect_faces(predictions, labels, iou_threshold=0.5):\n",
    "    \"\"\"\n",
    "    Compare les prédictions aux vérités terrain pour déterminer les visages détectés et non détectés.\n",
    "    \"\"\"\n",
    "    unique_ids = np.unique(predictions[:, 0])\n",
    "    detection_results = {}\n",
    "\n",
    "    for img_id in unique_ids:\n",
    "        pred_for_image = predictions[predictions[:, 0] == img_id]\n",
    "        labels_for_image = labels[labels[:, 0] == img_id]\n",
    "        \n",
    "        detected_faces = []\n",
    "        undetected_faces = []\n",
    "        matched_labels = np.zeros(len(labels_for_image), dtype=bool)\n",
    "\n",
    "        for idx, label in enumerate(labels_for_image):\n",
    "            label_box = label[1:5]\n",
    "            detected = False\n",
    "\n",
    "            for pred in pred_for_image:\n",
    "                pred_box = pred[1:5]\n",
    "                if iou(pred_box, label_box) > iou_threshold:\n",
    "                    detected = True\n",
    "                    break\n",
    "            \n",
    "            if detected:\n",
    "                detected_faces.append(label)\n",
    "                matched_labels[idx] = True\n",
    "            else:\n",
    "                undetected_faces.append(label)\n",
    "        \n",
    "        detection_results[img_id] = {\n",
    "            \"detected_faces\": detected_faces,\n",
    "            \"undetected_faces\": undetected_faces\n",
    "        }\n",
    "\n",
    "    return detection_results\n"
   ]
  },
  {
   "cell_type": "code",
   "execution_count": 12,
   "metadata": {},
   "outputs": [
    {
     "data": {
      "text/plain": [
       "{'detected_faces': [array([506.,  58., 107., 115.,  85.])],\n",
       " 'undetected_faces': []}"
      ]
     },
     "execution_count": 12,
     "metadata": {},
     "output_type": "execute_result"
    }
   ],
   "source": [
    "detection_results = detect_faces(results_train_nms, label_train)\n",
    "detection_results[506]"
   ]
  },
  {
   "cell_type": "markdown",
   "metadata": {},
   "source": [
    "# Q7"
   ]
  },
  {
   "cell_type": "code",
   "execution_count": 13,
   "metadata": {},
   "outputs": [
    {
     "name": "stdout",
     "output_type": "stream",
     "text": [
      "Precision: 0.10815173527037934\n",
      "Recall: 0.8562300319488818\n",
      "F1 Score: 0.19204586169831603\n"
     ]
    }
   ],
   "source": [
    "def calculate_metrics(detection_results, results_marked):\n",
    "    \"\"\"\n",
    "    Calcule la précision, le rappel et le score F1 à partir des résultats de détection.\n",
    "    \"\"\"\n",
    "    VP = results_marked[results_marked[:, 6] == 'VP'].shape[0]\n",
    "    FP = results_marked[results_marked[:, 6] == 'FP'].shape[0]\n",
    "    FN = 0\n",
    "    \n",
    "    for result in detection_results.values():\n",
    "        undetected_faces = result['undetected_faces']\n",
    "        FN += len(undetected_faces)\n",
    "\n",
    "    precision = VP / (VP + FP) if (VP + FP) > 0 else 0\n",
    "    recall = VP / (VP + FN) if (VP + FN) > 0 else 0\n",
    "    f1_score = 2 * (precision * recall) / (precision + recall) if (precision + recall) > 0 else 0\n",
    "    \n",
    "    return precision, recall, f1_score\n",
    "\n",
    "precision, recall, f1_score = calculate_metrics(detection_results, results_marked)\n",
    "\n",
    "print(f\"Precision: {precision}\")\n",
    "print(f\"Recall: {recall}\")\n",
    "print(f\"F1 Score: {f1_score}\")\n"
   ]
  },
  {
   "cell_type": "markdown",
   "metadata": {},
   "source": [
    "# Q8"
   ]
  },
  {
   "cell_type": "code",
   "execution_count": 14,
   "metadata": {},
   "outputs": [
    {
     "data": {
      "image/png": "[encoded data removed]",
      "text/plain": [
       "<Figure size 800x600 with 1 Axes>"
      ]
     },
     "metadata": {},
     "output_type": "display_data"
    }
   ],
   "source": [
    "import numpy as np\n",
    "import matplotlib.pyplot as plt\n",
    "\n",
    "def calculate_metrics_at_thresholds(detection_results, results_marked):\n",
    "    \"\"\"\n",
    "    Calcule la précision, le rappel à différents seuils de score et retourne les valeurs.\n",
    "    \"\"\"\n",
    "    thresholds = np.linspace(0, 1, 101)  # seuils de 0 à 1 avec un pas de 0.01\n",
    "    precision_list = []\n",
    "    recall_list = []\n",
    "\n",
    "    for threshold in thresholds:\n",
    "        VP = 0\n",
    "        FP = 0\n",
    "        FN = 0\n",
    "        \n",
    "        filtered_results = results_marked[results_marked[:, 5].astype(float) >= threshold]\n",
    "        \n",
    "        VP = filtered_results[filtered_results[:, 6] == 'VP'].shape[0]\n",
    "        FP = filtered_results[filtered_results[:, 6] == 'FP'].shape[0]\n",
    "        \n",
    "        for result in detection_results.values():\n",
    "            undetected_faces = result['undetected_faces']\n",
    "            FN += len(undetected_faces)\n",
    "\n",
    "        precision = VP / (VP + FP) if (VP + FP) > 0 else 0\n",
    "        recall = VP / (VP + FN) if (VP + FN) > 0 else 0\n",
    "        \n",
    "        precision_list.append(precision)\n",
    "        recall_list.append(recall)\n",
    "\n",
    "    return precision_list, recall_list\n",
    "\n",
    "precision_list, recall_list = calculate_metrics_at_thresholds(detection_results, results_marked)\n",
    "\n",
    "plt.figure(figsize=(8, 6))\n",
    "plt.plot(recall_list, precision_list, marker='o')\n",
    "plt.xlabel('Rappel (Recall)')\n",
    "plt.ylabel('Précision (Precision)')\n",
    "plt.title('Courbe de Précision/Rappel')\n",
    "plt.grid(True)\n",
    "plt.show()\n"
   ]
  },
  {
   "cell_type": "markdown",
   "metadata": {},
   "source": [
    "# Q9"
   ]
  },
  {
   "cell_type": "code",
   "execution_count": 15,
   "metadata": {},
   "outputs": [
    {
     "name": "stdout",
     "output_type": "stream",
     "text": [
      "Aire sous la courbe: 0.0006988513580163167\n"
     ]
    }
   ],
   "source": [
    "from sklearn.metrics import auc\n",
    "\n",
    "auc_score = auc(recall_list, precision_list)\n",
    "print(f\"Aire sous la courbe: {auc_score}\")\n"
   ]
  }
 ],
 "metadata": {
  "kernelspec": {
   "display_name": "Python 3",
   "language": "python",
   "name": "python3"
  },
  "language_info": {
   "codemirror_mode": {
    "name": "ipython",
    "version": 3
   },
   "file_extension": ".py",
   "mimetype": "text/x-python",
   "name": "python",
   "nbconvert_exporter": "python",
   "pygments_lexer": "ipython3",
   "version": "3.12.3"
  }
 },
 "nbformat": 4,
 "nbformat_minor": 2
}
