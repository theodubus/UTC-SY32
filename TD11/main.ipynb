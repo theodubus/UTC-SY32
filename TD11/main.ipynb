{
 "cells": [
  {
   "cell_type": "code",
   "execution_count": 1,
   "metadata": {},
   "outputs": [],
   "source": [
    "import warnings\n",
    "warnings.filterwarnings(\"ignore\")"
   ]
  },
  {
   "cell_type": "markdown",
   "metadata": {},
   "source": [
    "# Q1"
   ]
  },
  {
   "cell_type": "markdown",
   "metadata": {},
   "source": [
    "Première couche de convolution :\n",
    "- Entrée de dimension 1, 2 noyaux 3*3 -> $2 * (1*3*3 + 1) = 20$\n",
    "\n",
    "Deuxième couche de convolution :\n",
    "- Entrée de dimension 2, 4 noyaux 3*3 -> $4 * (2*3*3 + 1) = 76$\n",
    "\n",
    "Fully connected layer :\n",
    "- Entrée de dimension $6*6*4 = 144$ et une seule sortie -> $(144 + 1)*1 = 145$\n",
    "\n",
    "Total : $20 + 76 + 145 = 241$\n",
    "\n",
    "Les $+1$ correspondent aux biais."
   ]
  },
  {
   "cell_type": "markdown",
   "metadata": {},
   "source": [
    "# Q2"
   ]
  },
  {
   "cell_type": "code",
   "execution_count": 2,
   "metadata": {},
   "outputs": [
    {
     "name": "stdout",
     "output_type": "stream",
     "text": [
      "241\n"
     ]
    }
   ],
   "source": [
    "from faceClassifier import FaceNet\n",
    "net0 = FaceNet()\n",
    "print(sum(p.numel() for p in net0.parameters()))"
   ]
  },
  {
   "cell_type": "markdown",
   "metadata": {},
   "source": [
    "# Q3"
   ]
  },
  {
   "cell_type": "code",
   "execution_count": 3,
   "metadata": {},
   "outputs": [],
   "source": [
    "import numpy as np\n",
    "from skimage.io import imread\n",
    "X_train = np.zeros((24, 24, 15000), dtype=np.uint8)\n",
    "\n",
    "for i in range(3000):\n",
    "    X_train[:, :, i] = imread('imageface/train/pos/%05d.png' % (i + 1))\n",
    "\n",
    "for i in range(12000):\n",
    "    X_train[:, :, i + 3000] = imread('imageface/train/neg/%05d.png' % (i + 1))\n",
    "\n",
    "y_train = np.concatenate((np.ones(3000), -np.ones(12000)))\n",
    "X_test = np.zeros((24, 24, 6256), dtype=np.uint8)\n",
    "\n",
    "for i in range(1000):\n",
    "    X_test[:, :, i] = imread('imageface/test/pos/%05d.png' % (i + 1))\n",
    "\n",
    "for i in range(5256):\n",
    "    X_test[:, :, i + 1000] = imread('imageface/test/neg/%05d.png' % (i + 1))\n",
    "\n",
    "y_test = np.concatenate((np.ones(1000), -np.ones(5256)))\n",
    "\n"
   ]
  },
  {
   "cell_type": "markdown",
   "metadata": {},
   "source": [
    "# Q4"
   ]
  },
  {
   "cell_type": "code",
   "execution_count": 4,
   "metadata": {},
   "outputs": [
    {
     "name": "stdout",
     "output_type": "stream",
     "text": [
      "Net0 :\n",
      "\t- Taux d'erreur n_epoch = 5 : 0.11157289002557545\n",
      "\t- Taux d'erreur n_epoch = 10 : 0.09287084398976982\n",
      "\t- Taux d'erreur n_epoch = 15 : 0.0864769820971867\n",
      "\t- Taux d'erreur n_epoch = 20 : 0.07576726342710997\n",
      "Net1 :\n",
      "\t- Taux d'erreur n_epoch = 5 : 0.09127237851662404\n",
      "\t- Taux d'erreur n_epoch = 10 : 0.05770460358056266\n",
      "\t- Taux d'erreur n_epoch = 15 : 0.04219948849104859\n",
      "\t- Taux d'erreur n_epoch = 20 : 0.03308823529411765\n",
      "Net2 :\n",
      "\t- Taux d'erreur n_epoch = 5 : 0.159846547314578\n",
      "\t- Taux d'erreur n_epoch = 10 : 0.159846547314578\n",
      "\t- Taux d'erreur n_epoch = 15 : 0.159846547314578\n",
      "\t- Taux d'erreur n_epoch = 20 : 0.159846547314578\n"
     ]
    }
   ],
   "source": [
    "from faceClassifier import FaceClassifier\n",
    "\n",
    "for net in range(3):\n",
    "    clf = FaceClassifier(verbose=False, net=net)\n",
    "    print(f\"Net{net} :\")\n",
    "    for i in range(4):\n",
    "        clf.fit(X_train, y_train, n_epoch=5, batch_size=50)\n",
    "        y_pred = clf.predict(X_test)\n",
    "        print(f\"\\t- Taux d'erreur n_epoch = {5 * (i + 1)} : {np.mean(y_pred != y_test)}\")"
   ]
  },
  {
   "cell_type": "markdown",
   "metadata": {},
   "source": [
    "# Q5 & Q6\n",
    "Voire fichier `faceClassifier.py`."
   ]
  }
 ],
 "metadata": {
  "kernelspec": {
   "display_name": "Python 3",
   "language": "python",
   "name": "python3"
  },
  "language_info": {
   "codemirror_mode": {
    "name": "ipython",
    "version": 3
   },
   "file_extension": ".py",
   "mimetype": "text/x-python",
   "name": "python",
   "nbconvert_exporter": "python",
   "pygments_lexer": "ipython3",
   "version": "3.12.3"
  }
 },
 "nbformat": 4,
 "nbformat_minor": 2
}
